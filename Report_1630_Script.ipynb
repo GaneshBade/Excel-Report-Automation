import pandas as pd
import numpy as np
import time

startTime = time.time()
# Read and load csv or tab seperated files in pandas Dataframe
Account_Retailer = pd.read_csv("C:\A\TradeUK\TradeUK Work\Changes\Report 1630 Descrepancies\Sixth March\C24PR.TRFCM.STRIP.DOWN1.ACCTS",
                               names=['ACCOUNT-NUMBER','Retailer','Status'],skiprows=[0])
Close = pd.read_csv("C:\A\TradeUK\TradeUK Work\Changes\Report 1630 Descrepancies\Sixth March\C24PR.TRFCM.STRIP.DOWN2.CLOSE",sep=',',delimiter=',',
                    index_col=False)
Open = pd.read_csv("C:\A\TradeUK\TradeUK Work\Changes\Report 1630 Descrepancies\Sixth March\C24PR.TRFCM.STRIP.DOWN2.OPEN",sep=',',index_col=False)
Transactions = pd.read_csv("C:\A\TradeUK\TradeUK Work\Changes\Report 1630 Descrepancies\Sixth March\C24PR.TRFCM.STRIP.DOWN2.TRANS")

#len(Open)
#len(Account_Retailer)
#len(Account_Retailer['ACCOUNT-NUMBER'].unique())
#Acct_Ret_6331640002672897 = Account_Retailer[Account_Retailer['ACCOUNT-NUMBER'] == 6331640002672897]
#Open_6331640002672897 = Open[Open['ACCOUNT-NUMBER'] == 6331640002672897]
#Close_6331640002672897 = Close[Close['ACCOUNT-NUMBER'] == 6331640002672897]
#Transactions_6331640002672897 = Transactions[Transactions['ACCOUNT-NUMBER'] == 6331640002672897]


Open_Retailer = Open.merge(Account_Retailer,on='ACCOUNT-NUMBER')

# Open_Retailer.info()
# len(Open_Retailer['ACCOUNT-NUMBER'].unique())

Close_Retailer = Close.merge(Account_Retailer,on='ACCOUNT-NUMBER')

# len(Close)
# len(Close_Retailer)
# len(Close_Retailer['ACCOUNT-NUMBER'].unique())

#  Pivot Table

Open_summary = pd.pivot_table(Open_Retailer,index=["ACCOUNT-NUMBER","Retailer"],values=["AMT-OS"],
               aggfunc=np.sum)

Close_summary = pd.pivot_table(Close_Retailer,index=["ACCOUNT-NUMBER","Retailer"],values=["AMT-OS"],
               aggfunc=np.sum)

Transaction_summary = pd.pivot_table(Transactions,index=["ACCOUNT-NUMBER"],values=["AMOUNT"],
               aggfunc=np.sum)

# Concatenation of Pivot table data 

Open_Close_summary = Open_summary.merge(Close_summary, on="ACCOUNT-NUMBER", suffixes=('_Open', '_Close'))

Final_Rec = Open_Close_summary.merge(Transaction_summary, on="ACCOUNT-NUMBER")

Final_Rec["AMT-OS_Open"] = round(Final_Rec["AMT-OS_Open"],2)
Final_Rec["AMOUNT"] = round(Final_Rec["AMOUNT"],2)
Final_Rec["AMT-OS_Close"] = round(Final_Rec["AMT-OS_Close"],2)

Final_Rec["AMT-OS_Open+AMOUNT"] = Final_Rec["AMT-OS_Open"] + Final_Rec["AMOUNT"]
Final_Rec["AMT-OS_Open+AMOUNT"] = round(Final_Rec["AMT-OS_Open+AMOUNT"],2)
# Final_Rec["Total_OS_Bal"] = np.sqrt(Final_Rec["AMT-OS_y"]**2) - np.sqrt(Final_Rec["AMT-OS_x+AMOUNT"]**2)

Final_Rec["Total_OS_Bal"]= Final_Rec["AMT-OS_Open+AMOUNT"].subtract(Final_Rec["AMT-OS_Close"],fill_value=0)

Final_Rec["Total_OS_Bal"] = round(Final_Rec["Total_OS_Bal"],2)

Final_Rec = Final_Rec.merge(Account_Retailer,on='ACCOUNT-NUMBER')

Final_Rec.drop('Status', axis=1, inplace=True)

print(Final_Rec[Final_Rec["Total_OS_Bal"] != 0])

# Copy Final Records data into local drive 
Final_Rec.to_csv("C:\A\TradeUK\TradeUK Work\Changes\Report 1630 Descrepancies\Third March\Final_Rec.csv", sep=',',index=False)

type(Final_Rec)

endTime = time.time()

print('This script took %s seconds to complete.' %(round(endTime - startTime))) 

print("Process End")

# Final_Rec["Total_OS_Bal"].sum()

# Final_Rec["AMOUNT"].sum()
# (Final_Rec["AMT-OS_Open"].sum() + Final_Rec["AMOUNT"].sum())
# (Final_Rec["AMT-OS_Close"].sum() - (Final_Rec["AMT-OS_Open"].sum() + Final_Rec["AMOUNT"].sum()))
